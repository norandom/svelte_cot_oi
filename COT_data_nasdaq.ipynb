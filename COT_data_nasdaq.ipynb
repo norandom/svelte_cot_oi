{
 "cells": [
  {
   "cell_type": "markdown",
   "id": "68e3c2ce-ed33-4c9d-851c-86184d9d3414",
   "metadata": {},
   "source": [
    "1.) Load NASDAQ API key (Data Link API)\n"
   ]
  },
  {
   "cell_type": "code",
   "execution_count": 22,
   "id": "7629bec6-f9e7-4180-aa56-0c2e857d34cb",
   "metadata": {},
   "outputs": [
    {
     "data": {
      "text/plain": [
       "True"
      ]
     },
     "execution_count": 22,
     "metadata": {},
     "output_type": "execute_result"
    }
   ],
   "source": [
    "from dotenv import load_dotenv\n",
    "import os\n",
    "\n",
    "# Load the environment variables from .env file\n",
    "load_dotenv(\"api_keys\")"
   ]
  },
  {
   "cell_type": "code",
   "execution_count": 23,
   "id": "aa5b3443-449e-4f02-b231-1ffdef4d11ac",
   "metadata": {},
   "outputs": [
    {
     "name": "stdout",
     "output_type": "stream",
     "text": [
      "loaded key\n"
     ]
    }
   ],
   "source": [
    "nasdaq_api_key = os.getenv('NASDAQ_API_KEY')\n",
    "if len(nasdaq_api_key) > 0:\n",
    "    print(\"loaded key\")"
   ]
  },
  {
   "cell_type": "markdown",
   "id": "5fdcd717-d4a3-4e7e-b8b5-a4369bd1bc83",
   "metadata": {},
   "source": [
    "2.) Retrieve 1 year of COT data (% shifts producers long / short)"
   ]
  },
  {
   "cell_type": "code",
   "execution_count": 16,
   "id": "fc5d6a91-c107-443e-8b6e-84e10d945ca2",
   "metadata": {},
   "outputs": [
    {
     "name": "stdout",
     "output_type": "stream",
     "text": [
      "            Open Interest  Producer/Merchant/Processor/User Longs  \\\n",
      "Date                                                                \n",
      "2023-12-05       139753.0                                  4714.0   \n",
      "2023-12-12       134281.0                                  4311.0   \n",
      "2023-12-19       127549.0                                  3701.0   \n",
      "2023-12-26       131408.0                                  4063.0   \n",
      "2024-01-02       134725.0                                  4483.0   \n",
      "\n",
      "            Producer/Merchant/Processor/User Shorts  Swap Dealer Longs  \\\n",
      "Date                                                                     \n",
      "2023-12-05                                  41340.0            33328.0   \n",
      "2023-12-12                                  38849.0            30707.0   \n",
      "2023-12-19                                  39714.0            30908.0   \n",
      "2023-12-26                                  41011.0            29911.0   \n",
      "2024-01-02                                  42194.0            30612.0   \n",
      "\n",
      "            Swap Dealer Shorts  Swap Dealer Spreads  Money Manager Longs  \\\n",
      "Date                                                                       \n",
      "2023-12-05             48716.0               2932.0              43852.0   \n",
      "2023-12-12             43665.0               2832.0              33472.0   \n",
      "2023-12-19             43686.0               1911.0              34931.0   \n",
      "2023-12-26             45585.0               2415.0              36546.0   \n",
      "2024-01-02             43448.0               3012.0              38424.0   \n",
      "\n",
      "            Money Manager Shorts  Money Manager Spreads  \\\n",
      "Date                                                      \n",
      "2023-12-05               22322.0                 7544.0   \n",
      "2023-12-12               24805.0                 8439.0   \n",
      "2023-12-19               20060.0                 6662.0   \n",
      "2023-12-26               19749.0                 6847.0   \n",
      "2024-01-02               22367.0                 8089.0   \n",
      "\n",
      "            Other Reportable Longs  Other Reportable Shorts  \\\n",
      "Date                                                          \n",
      "2023-12-05                 19389.0                   4616.0   \n",
      "2023-12-12                 22212.0                   2421.0   \n",
      "2023-12-19                 17700.0                   2820.0   \n",
      "2023-12-26                 18013.0                   2947.0   \n",
      "2024-01-02                 19210.0                   2697.0   \n",
      "\n",
      "            Other Reportable Spreads  Total Reportable Longs  \\\n",
      "Date                                                           \n",
      "2023-12-05                    1607.0                113366.0   \n",
      "2023-12-12                    1706.0                103679.0   \n",
      "2023-12-19                    1577.0                 97390.0   \n",
      "2023-12-26                    2137.0                 99932.0   \n",
      "2024-01-02                    2719.0                106549.0   \n",
      "\n",
      "            Total Reportable Shorts  Non Reportable Longs  \\\n",
      "Date                                                        \n",
      "2023-12-05                 129077.0               26387.0   \n",
      "2023-12-12                 122717.0               30602.0   \n",
      "2023-12-19                 116430.0               30159.0   \n",
      "2023-12-26                 120691.0               31476.0   \n",
      "2024-01-02                 124526.0               28176.0   \n",
      "\n",
      "            Non Reportable Shorts  \n",
      "Date                               \n",
      "2023-12-05                10676.0  \n",
      "2023-12-12                11564.0  \n",
      "2023-12-19                11119.0  \n",
      "2023-12-26                10717.0  \n",
      "2024-01-02                10199.0  \n"
     ]
    }
   ],
   "source": [
    "import requests\n",
    "import pandas as pd\n",
    "from datetime import datetime\n",
    "\n",
    "# API endpoint components\n",
    "base_url = \"https://data.nasdaq.com/api/v3/datasets/\"\n",
    "dataset = \"CFTC/084691_F_ALL\"\n",
    "data_format = \".json\"\n",
    "\n",
    "# Parameters\n",
    "params = {\n",
    "    \"start_date\": \"2023-08-01\",\n",
    "    \"end_date\": \"2024-08-01\",\n",
    "    \"api_key\": nasdaq_api_key  \n",
    "}\n",
    "\n",
    "# Construct the full URL\n",
    "url = f\"{base_url}{dataset}{data_format}\"\n",
    "\n",
    "# Make the API request\n",
    "response = requests.get(url, params=params)\n",
    "\n",
    "# Check if the request was successful\n",
    "if response.status_code == 200:\n",
    "    # Parse the JSON response\n",
    "    data = response.json()\n",
    "    \n",
    "    # Extract the dataset from the response\n",
    "    dataset = data['dataset']\n",
    "    \n",
    "    # Create a pandas DataFrame\n",
    "    df = pd.DataFrame(dataset['data'], columns=dataset['column_names'])\n",
    "    \n",
    "    # Convert the date column to datetime\n",
    "    df['Date'] = pd.to_datetime(df['Date'])\n",
    "    \n",
    "    # Set the date as the index\n",
    "    df.set_index('Date', inplace=True)\n",
    "    \n",
    "    # Sort the DataFrame by date\n",
    "    df.sort_index(inplace=True)\n",
    "    \n",
    "    # Display the first few rows of the DataFrame\n",
    "    print(df.tail())\n",
    "    \n",
    "    # You can now use this DataFrame for further analysis or visualization\n",
    "    \n",
    "else:\n",
    "    print(f\"Error fetching data: {response.status_code}\")\n",
    "    print(response.text)"
   ]
  },
  {
   "cell_type": "code",
   "execution_count": 3,
   "id": "a1ab3a82-5682-4701-ab9e-414d6d4ff115",
   "metadata": {},
   "outputs": [
    {
     "data": {
      "text/plain": [
       "Index(['Open Interest', 'Producer/Merchant/Processor/User Longs',\n",
       "       'Producer/Merchant/Processor/User Shorts', 'Swap Dealer Longs',\n",
       "       'Swap Dealer Shorts', 'Swap Dealer Spreads', 'Money Manager Longs',\n",
       "       'Money Manager Shorts', 'Money Manager Spreads',\n",
       "       'Other Reportable Longs', 'Other Reportable Shorts',\n",
       "       'Other Reportable Spreads', 'Total Reportable Longs',\n",
       "       'Total Reportable Shorts', 'Non Reportable Longs',\n",
       "       'Non Reportable Shorts'],\n",
       "      dtype='object')"
      ]
     },
     "execution_count": 3,
     "metadata": {},
     "output_type": "execute_result"
    }
   ],
   "source": [
    "df.columns"
   ]
  },
  {
   "cell_type": "code",
   "execution_count": 19,
   "id": "0babd084-6190-4681-a6a3-23a95b92a68c",
   "metadata": {},
   "outputs": [
    {
     "data": {
      "application/vnd.plotly.v1+json": {
       "config": {
        "plotlyServerURL": "https://plot.ly"
       },
       "data": [
        {
         "line": {
          "color": "blue",
          "width": 2
         },
         "mode": "lines",
         "name": "Producer/Merchant/Processor/User Longs",
         "type": "scatter",
         "x": [
          "2023-08-01T00:00:00",
          "2023-08-08T00:00:00",
          "2023-08-15T00:00:00",
          "2023-08-22T00:00:00",
          "2023-08-29T00:00:00",
          "2023-09-05T00:00:00",
          "2023-09-12T00:00:00",
          "2023-09-19T00:00:00",
          "2023-09-26T00:00:00",
          "2023-10-03T00:00:00",
          "2023-10-10T00:00:00",
          "2023-10-17T00:00:00",
          "2023-10-24T00:00:00",
          "2023-10-31T00:00:00",
          "2023-11-07T00:00:00",
          "2023-11-14T00:00:00",
          "2023-11-21T00:00:00",
          "2023-11-28T00:00:00",
          "2023-12-05T00:00:00",
          "2023-12-12T00:00:00",
          "2023-12-19T00:00:00",
          "2023-12-26T00:00:00",
          "2024-01-02T00:00:00"
         ],
         "y": [
          1.136410939516297,
          1.1523566638330027,
          2.396266685960279,
          2.851185250219491,
          2.508278207018142,
          2.641897738523063,
          2.5548319126520447,
          3.1944588028533034,
          2.8390092388634454,
          2.6397133026611677,
          3.177891014483622,
          2.446619217081851,
          2.266494595902565,
          2.821831859595888,
          3.237127402287275,
          2.7605951374363995,
          2.6665078573395964,
          2.495256712470534,
          3.373093958627006,
          3.2104318555864193,
          2.9016299618185952,
          3.0918969925727504,
          3.327519020226387
         ]
        },
        {
         "line": {
          "color": "red",
          "width": 2
         },
         "mode": "lines",
         "name": "Producer/Merchant/Processor/User Shorts",
         "type": "scatter",
         "x": [
          "2023-08-01T00:00:00",
          "2023-08-08T00:00:00",
          "2023-08-15T00:00:00",
          "2023-08-22T00:00:00",
          "2023-08-29T00:00:00",
          "2023-09-05T00:00:00",
          "2023-09-12T00:00:00",
          "2023-09-19T00:00:00",
          "2023-09-26T00:00:00",
          "2023-10-03T00:00:00",
          "2023-10-10T00:00:00",
          "2023-10-17T00:00:00",
          "2023-10-24T00:00:00",
          "2023-10-31T00:00:00",
          "2023-11-07T00:00:00",
          "2023-11-14T00:00:00",
          "2023-11-21T00:00:00",
          "2023-11-28T00:00:00",
          "2023-12-05T00:00:00",
          "2023-12-12T00:00:00",
          "2023-12-19T00:00:00",
          "2023-12-26T00:00:00",
          "2024-01-02T00:00:00"
         ],
         "y": [
          23.112572673410202,
          23.56591174953317,
          23.553159931990013,
          24.551507170032192,
          26.557673360840933,
          27.213339673680025,
          25.948185039747152,
          25.303580942989605,
          25.177883777316453,
          25.33234800988502,
          25.649163982326673,
          27.558233581365254,
          28.23761897080174,
          26.63079123501569,
          25.823014655955078,
          24.92842626793052,
          27.52488219573746,
          28.97933076525039,
          29.580760341459577,
          28.93112205002942,
          31.136269198504102,
          31.208906611469622,
          31.318611987381708
         ]
        }
       ],
       "layout": {
        "height": 600,
        "hovermode": "x unified",
        "legend": {
         "title": {
          "text": "Producer Categories"
         }
        },
        "template": {
         "data": {
          "bar": [
           {
            "error_x": {
             "color": "#2a3f5f"
            },
            "error_y": {
             "color": "#2a3f5f"
            },
            "marker": {
             "line": {
              "color": "#E5ECF6",
              "width": 0.5
             },
             "pattern": {
              "fillmode": "overlay",
              "size": 10,
              "solidity": 0.2
             }
            },
            "type": "bar"
           }
          ],
          "barpolar": [
           {
            "marker": {
             "line": {
              "color": "#E5ECF6",
              "width": 0.5
             },
             "pattern": {
              "fillmode": "overlay",
              "size": 10,
              "solidity": 0.2
             }
            },
            "type": "barpolar"
           }
          ],
          "carpet": [
           {
            "aaxis": {
             "endlinecolor": "#2a3f5f",
             "gridcolor": "white",
             "linecolor": "white",
             "minorgridcolor": "white",
             "startlinecolor": "#2a3f5f"
            },
            "baxis": {
             "endlinecolor": "#2a3f5f",
             "gridcolor": "white",
             "linecolor": "white",
             "minorgridcolor": "white",
             "startlinecolor": "#2a3f5f"
            },
            "type": "carpet"
           }
          ],
          "choropleth": [
           {
            "colorbar": {
             "outlinewidth": 0,
             "ticks": ""
            },
            "type": "choropleth"
           }
          ],
          "contour": [
           {
            "colorbar": {
             "outlinewidth": 0,
             "ticks": ""
            },
            "colorscale": [
             [
              0,
              "#0d0887"
             ],
             [
              0.1111111111111111,
              "#46039f"
             ],
             [
              0.2222222222222222,
              "#7201a8"
             ],
             [
              0.3333333333333333,
              "#9c179e"
             ],
             [
              0.4444444444444444,
              "#bd3786"
             ],
             [
              0.5555555555555556,
              "#d8576b"
             ],
             [
              0.6666666666666666,
              "#ed7953"
             ],
             [
              0.7777777777777778,
              "#fb9f3a"
             ],
             [
              0.8888888888888888,
              "#fdca26"
             ],
             [
              1,
              "#f0f921"
             ]
            ],
            "type": "contour"
           }
          ],
          "contourcarpet": [
           {
            "colorbar": {
             "outlinewidth": 0,
             "ticks": ""
            },
            "type": "contourcarpet"
           }
          ],
          "heatmap": [
           {
            "colorbar": {
             "outlinewidth": 0,
             "ticks": ""
            },
            "colorscale": [
             [
              0,
              "#0d0887"
             ],
             [
              0.1111111111111111,
              "#46039f"
             ],
             [
              0.2222222222222222,
              "#7201a8"
             ],
             [
              0.3333333333333333,
              "#9c179e"
             ],
             [
              0.4444444444444444,
              "#bd3786"
             ],
             [
              0.5555555555555556,
              "#d8576b"
             ],
             [
              0.6666666666666666,
              "#ed7953"
             ],
             [
              0.7777777777777778,
              "#fb9f3a"
             ],
             [
              0.8888888888888888,
              "#fdca26"
             ],
             [
              1,
              "#f0f921"
             ]
            ],
            "type": "heatmap"
           }
          ],
          "heatmapgl": [
           {
            "colorbar": {
             "outlinewidth": 0,
             "ticks": ""
            },
            "colorscale": [
             [
              0,
              "#0d0887"
             ],
             [
              0.1111111111111111,
              "#46039f"
             ],
             [
              0.2222222222222222,
              "#7201a8"
             ],
             [
              0.3333333333333333,
              "#9c179e"
             ],
             [
              0.4444444444444444,
              "#bd3786"
             ],
             [
              0.5555555555555556,
              "#d8576b"
             ],
             [
              0.6666666666666666,
              "#ed7953"
             ],
             [
              0.7777777777777778,
              "#fb9f3a"
             ],
             [
              0.8888888888888888,
              "#fdca26"
             ],
             [
              1,
              "#f0f921"
             ]
            ],
            "type": "heatmapgl"
           }
          ],
          "histogram": [
           {
            "marker": {
             "pattern": {
              "fillmode": "overlay",
              "size": 10,
              "solidity": 0.2
             }
            },
            "type": "histogram"
           }
          ],
          "histogram2d": [
           {
            "colorbar": {
             "outlinewidth": 0,
             "ticks": ""
            },
            "colorscale": [
             [
              0,
              "#0d0887"
             ],
             [
              0.1111111111111111,
              "#46039f"
             ],
             [
              0.2222222222222222,
              "#7201a8"
             ],
             [
              0.3333333333333333,
              "#9c179e"
             ],
             [
              0.4444444444444444,
              "#bd3786"
             ],
             [
              0.5555555555555556,
              "#d8576b"
             ],
             [
              0.6666666666666666,
              "#ed7953"
             ],
             [
              0.7777777777777778,
              "#fb9f3a"
             ],
             [
              0.8888888888888888,
              "#fdca26"
             ],
             [
              1,
              "#f0f921"
             ]
            ],
            "type": "histogram2d"
           }
          ],
          "histogram2dcontour": [
           {
            "colorbar": {
             "outlinewidth": 0,
             "ticks": ""
            },
            "colorscale": [
             [
              0,
              "#0d0887"
             ],
             [
              0.1111111111111111,
              "#46039f"
             ],
             [
              0.2222222222222222,
              "#7201a8"
             ],
             [
              0.3333333333333333,
              "#9c179e"
             ],
             [
              0.4444444444444444,
              "#bd3786"
             ],
             [
              0.5555555555555556,
              "#d8576b"
             ],
             [
              0.6666666666666666,
              "#ed7953"
             ],
             [
              0.7777777777777778,
              "#fb9f3a"
             ],
             [
              0.8888888888888888,
              "#fdca26"
             ],
             [
              1,
              "#f0f921"
             ]
            ],
            "type": "histogram2dcontour"
           }
          ],
          "mesh3d": [
           {
            "colorbar": {
             "outlinewidth": 0,
             "ticks": ""
            },
            "type": "mesh3d"
           }
          ],
          "parcoords": [
           {
            "line": {
             "colorbar": {
              "outlinewidth": 0,
              "ticks": ""
             }
            },
            "type": "parcoords"
           }
          ],
          "pie": [
           {
            "automargin": true,
            "type": "pie"
           }
          ],
          "scatter": [
           {
            "fillpattern": {
             "fillmode": "overlay",
             "size": 10,
             "solidity": 0.2
            },
            "type": "scatter"
           }
          ],
          "scatter3d": [
           {
            "line": {
             "colorbar": {
              "outlinewidth": 0,
              "ticks": ""
             }
            },
            "marker": {
             "colorbar": {
              "outlinewidth": 0,
              "ticks": ""
             }
            },
            "type": "scatter3d"
           }
          ],
          "scattercarpet": [
           {
            "marker": {
             "colorbar": {
              "outlinewidth": 0,
              "ticks": ""
             }
            },
            "type": "scattercarpet"
           }
          ],
          "scattergeo": [
           {
            "marker": {
             "colorbar": {
              "outlinewidth": 0,
              "ticks": ""
             }
            },
            "type": "scattergeo"
           }
          ],
          "scattergl": [
           {
            "marker": {
             "colorbar": {
              "outlinewidth": 0,
              "ticks": ""
             }
            },
            "type": "scattergl"
           }
          ],
          "scattermapbox": [
           {
            "marker": {
             "colorbar": {
              "outlinewidth": 0,
              "ticks": ""
             }
            },
            "type": "scattermapbox"
           }
          ],
          "scatterpolar": [
           {
            "marker": {
             "colorbar": {
              "outlinewidth": 0,
              "ticks": ""
             }
            },
            "type": "scatterpolar"
           }
          ],
          "scatterpolargl": [
           {
            "marker": {
             "colorbar": {
              "outlinewidth": 0,
              "ticks": ""
             }
            },
            "type": "scatterpolargl"
           }
          ],
          "scatterternary": [
           {
            "marker": {
             "colorbar": {
              "outlinewidth": 0,
              "ticks": ""
             }
            },
            "type": "scatterternary"
           }
          ],
          "surface": [
           {
            "colorbar": {
             "outlinewidth": 0,
             "ticks": ""
            },
            "colorscale": [
             [
              0,
              "#0d0887"
             ],
             [
              0.1111111111111111,
              "#46039f"
             ],
             [
              0.2222222222222222,
              "#7201a8"
             ],
             [
              0.3333333333333333,
              "#9c179e"
             ],
             [
              0.4444444444444444,
              "#bd3786"
             ],
             [
              0.5555555555555556,
              "#d8576b"
             ],
             [
              0.6666666666666666,
              "#ed7953"
             ],
             [
              0.7777777777777778,
              "#fb9f3a"
             ],
             [
              0.8888888888888888,
              "#fdca26"
             ],
             [
              1,
              "#f0f921"
             ]
            ],
            "type": "surface"
           }
          ],
          "table": [
           {
            "cells": {
             "fill": {
              "color": "#EBF0F8"
             },
             "line": {
              "color": "white"
             }
            },
            "header": {
             "fill": {
              "color": "#C8D4E3"
             },
             "line": {
              "color": "white"
             }
            },
            "type": "table"
           }
          ]
         },
         "layout": {
          "annotationdefaults": {
           "arrowcolor": "#2a3f5f",
           "arrowhead": 0,
           "arrowwidth": 1
          },
          "autotypenumbers": "strict",
          "coloraxis": {
           "colorbar": {
            "outlinewidth": 0,
            "ticks": ""
           }
          },
          "colorscale": {
           "diverging": [
            [
             0,
             "#8e0152"
            ],
            [
             0.1,
             "#c51b7d"
            ],
            [
             0.2,
             "#de77ae"
            ],
            [
             0.3,
             "#f1b6da"
            ],
            [
             0.4,
             "#fde0ef"
            ],
            [
             0.5,
             "#f7f7f7"
            ],
            [
             0.6,
             "#e6f5d0"
            ],
            [
             0.7,
             "#b8e186"
            ],
            [
             0.8,
             "#7fbc41"
            ],
            [
             0.9,
             "#4d9221"
            ],
            [
             1,
             "#276419"
            ]
           ],
           "sequential": [
            [
             0,
             "#0d0887"
            ],
            [
             0.1111111111111111,
             "#46039f"
            ],
            [
             0.2222222222222222,
             "#7201a8"
            ],
            [
             0.3333333333333333,
             "#9c179e"
            ],
            [
             0.4444444444444444,
             "#bd3786"
            ],
            [
             0.5555555555555556,
             "#d8576b"
            ],
            [
             0.6666666666666666,
             "#ed7953"
            ],
            [
             0.7777777777777778,
             "#fb9f3a"
            ],
            [
             0.8888888888888888,
             "#fdca26"
            ],
            [
             1,
             "#f0f921"
            ]
           ],
           "sequentialminus": [
            [
             0,
             "#0d0887"
            ],
            [
             0.1111111111111111,
             "#46039f"
            ],
            [
             0.2222222222222222,
             "#7201a8"
            ],
            [
             0.3333333333333333,
             "#9c179e"
            ],
            [
             0.4444444444444444,
             "#bd3786"
            ],
            [
             0.5555555555555556,
             "#d8576b"
            ],
            [
             0.6666666666666666,
             "#ed7953"
            ],
            [
             0.7777777777777778,
             "#fb9f3a"
            ],
            [
             0.8888888888888888,
             "#fdca26"
            ],
            [
             1,
             "#f0f921"
            ]
           ]
          },
          "colorway": [
           "#636efa",
           "#EF553B",
           "#00cc96",
           "#ab63fa",
           "#FFA15A",
           "#19d3f3",
           "#FF6692",
           "#B6E880",
           "#FF97FF",
           "#FECB52"
          ],
          "font": {
           "color": "#2a3f5f"
          },
          "geo": {
           "bgcolor": "white",
           "lakecolor": "white",
           "landcolor": "#E5ECF6",
           "showlakes": true,
           "showland": true,
           "subunitcolor": "white"
          },
          "hoverlabel": {
           "align": "left"
          },
          "hovermode": "closest",
          "mapbox": {
           "style": "light"
          },
          "paper_bgcolor": "white",
          "plot_bgcolor": "#E5ECF6",
          "polar": {
           "angularaxis": {
            "gridcolor": "white",
            "linecolor": "white",
            "ticks": ""
           },
           "bgcolor": "#E5ECF6",
           "radialaxis": {
            "gridcolor": "white",
            "linecolor": "white",
            "ticks": ""
           }
          },
          "scene": {
           "xaxis": {
            "backgroundcolor": "#E5ECF6",
            "gridcolor": "white",
            "gridwidth": 2,
            "linecolor": "white",
            "showbackground": true,
            "ticks": "",
            "zerolinecolor": "white"
           },
           "yaxis": {
            "backgroundcolor": "#E5ECF6",
            "gridcolor": "white",
            "gridwidth": 2,
            "linecolor": "white",
            "showbackground": true,
            "ticks": "",
            "zerolinecolor": "white"
           },
           "zaxis": {
            "backgroundcolor": "#E5ECF6",
            "gridcolor": "white",
            "gridwidth": 2,
            "linecolor": "white",
            "showbackground": true,
            "ticks": "",
            "zerolinecolor": "white"
           }
          },
          "shapedefaults": {
           "line": {
            "color": "#2a3f5f"
           }
          },
          "ternary": {
           "aaxis": {
            "gridcolor": "white",
            "linecolor": "white",
            "ticks": ""
           },
           "baxis": {
            "gridcolor": "white",
            "linecolor": "white",
            "ticks": ""
           },
           "bgcolor": "#E5ECF6",
           "caxis": {
            "gridcolor": "white",
            "linecolor": "white",
            "ticks": ""
           }
          },
          "title": {
           "x": 0.05
          },
          "xaxis": {
           "automargin": true,
           "gridcolor": "white",
           "linecolor": "white",
           "ticks": "",
           "title": {
            "standoff": 15
           },
           "zerolinecolor": "white",
           "zerolinewidth": 2
          },
          "yaxis": {
           "automargin": true,
           "gridcolor": "white",
           "linecolor": "white",
           "ticks": "",
           "title": {
            "standoff": 15
           },
           "zerolinecolor": "white",
           "zerolinewidth": 2
          }
         }
        },
        "title": {
         "text": "COT Data: Percentage of Open Interest for Producers"
        },
        "width": 1200,
        "xaxis": {
         "autorange": true,
         "dtick": "M1",
         "range": [
          "2023-08-01",
          "2024-01-02"
         ],
         "tickangle": 45,
         "tickformat": "%d %b %Y",
         "ticklabelmode": "period",
         "title": {
          "text": "Date"
         },
         "type": "date"
        },
        "yaxis": {
         "autorange": true,
         "range": [
          -0.540378007587337,
          32.99540093448534
         ],
         "ticksuffix": "%",
         "title": {
          "text": "Percentage of Open Interest"
         },
         "type": "linear"
        }
       }
      },
      "image/png": "[encoded data removed]",
      "text/html": [
       "<div>                            <div id=\"dba9e4a5-6b88-4361-9340-e9e1d7fb5297\" class=\"plotly-graph-div\" style=\"height:600px; width:1200px;\"></div>            <script type=\"text/javascript\">                require([\"plotly\"], function(Plotly) {                    window.PLOTLYENV=window.PLOTLYENV || {};                                    if (document.getElementById(\"dba9e4a5-6b88-4361-9340-e9e1d7fb5297\")) {                    Plotly.newPlot(                        \"dba9e4a5-6b88-4361-9340-e9e1d7fb5297\",                        [{\"line\":{\"color\":\"blue\",\"width\":2},\"mode\":\"lines\",\"name\":\"Producer\\u002fMerchant\\u002fProcessor\\u002fUser Longs\",\"x\":[\"2023-08-01T00:00:00\",\"2023-08-08T00:00:00\",\"2023-08-15T00:00:00\",\"2023-08-22T00:00:00\",\"2023-08-29T00:00:00\",\"2023-09-05T00:00:00\",\"2023-09-12T00:00:00\",\"2023-09-19T00:00:00\",\"2023-09-26T00:00:00\",\"2023-10-03T00:00:00\",\"2023-10-10T00:00:00\",\"2023-10-17T00:00:00\",\"2023-10-24T00:00:00\",\"2023-10-31T00:00:00\",\"2023-11-07T00:00:00\",\"2023-11-14T00:00:00\",\"2023-11-21T00:00:00\",\"2023-11-28T00:00:00\",\"2023-12-05T00:00:00\",\"2023-12-12T00:00:00\",\"2023-12-19T00:00:00\",\"2023-12-26T00:00:00\",\"2024-01-02T00:00:00\"],\"y\":[1.136410939516297,1.1523566638330027,2.396266685960279,2.851185250219491,2.508278207018142,2.641897738523063,2.5548319126520447,3.1944588028533034,2.8390092388634454,2.6397133026611677,3.177891014483622,2.446619217081851,2.266494595902565,2.821831859595888,3.237127402287275,2.7605951374363995,2.6665078573395964,2.495256712470534,3.373093958627006,3.2104318555864193,2.9016299618185952,3.0918969925727504,3.327519020226387],\"type\":\"scatter\"},{\"line\":{\"color\":\"red\",\"width\":2},\"mode\":\"lines\",\"name\":\"Producer\\u002fMerchant\\u002fProcessor\\u002fUser Shorts\",\"x\":[\"2023-08-01T00:00:00\",\"2023-08-08T00:00:00\",\"2023-08-15T00:00:00\",\"2023-08-22T00:00:00\",\"2023-08-29T00:00:00\",\"2023-09-05T00:00:00\",\"2023-09-12T00:00:00\",\"2023-09-19T00:00:00\",\"2023-09-26T00:00:00\",\"2023-10-03T00:00:00\",\"2023-10-10T00:00:00\",\"2023-10-17T00:00:00\",\"2023-10-24T00:00:00\",\"2023-10-31T00:00:00\",\"2023-11-07T00:00:00\",\"2023-11-14T00:00:00\",\"2023-11-21T00:00:00\",\"2023-11-28T00:00:00\",\"2023-12-05T00:00:00\",\"2023-12-12T00:00:00\",\"2023-12-19T00:00:00\",\"2023-12-26T00:00:00\",\"2024-01-02T00:00:00\"],\"y\":[23.112572673410202,23.56591174953317,23.553159931990013,24.551507170032192,26.557673360840933,27.213339673680025,25.948185039747152,25.303580942989605,25.177883777316453,25.33234800988502,25.649163982326673,27.558233581365254,28.23761897080174,26.63079123501569,25.823014655955078,24.92842626793052,27.52488219573746,28.97933076525039,29.580760341459577,28.93112205002942,31.136269198504102,31.208906611469622,31.318611987381708],\"type\":\"scatter\"}],                        {\"template\":{\"data\":{\"histogram2dcontour\":[{\"type\":\"histogram2dcontour\",\"colorbar\":{\"outlinewidth\":0,\"ticks\":\"\"},\"colorscale\":[[0.0,\"#0d0887\"],[0.1111111111111111,\"#46039f\"],[0.2222222222222222,\"#7201a8\"],[0.3333333333333333,\"#9c179e\"],[0.4444444444444444,\"#bd3786\"],[0.5555555555555556,\"#d8576b\"],[0.6666666666666666,\"#ed7953\"],[0.7777777777777778,\"#fb9f3a\"],[0.8888888888888888,\"#fdca26\"],[1.0,\"#f0f921\"]]}],\"choropleth\":[{\"type\":\"choropleth\",\"colorbar\":{\"outlinewidth\":0,\"ticks\":\"\"}}],\"histogram2d\":[{\"type\":\"histogram2d\",\"colorbar\":{\"outlinewidth\":0,\"ticks\":\"\"},\"colorscale\":[[0.0,\"#0d0887\"],[0.1111111111111111,\"#46039f\"],[0.2222222222222222,\"#7201a8\"],[0.3333333333333333,\"#9c179e\"],[0.4444444444444444,\"#bd3786\"],[0.5555555555555556,\"#d8576b\"],[0.6666666666666666,\"#ed7953\"],[0.7777777777777778,\"#fb9f3a\"],[0.8888888888888888,\"#fdca26\"],[1.0,\"#f0f921\"]]}],\"heatmap\":[{\"type\":\"heatmap\",\"colorbar\":{\"outlinewidth\":0,\"ticks\":\"\"},\"colorscale\":[[0.0,\"#0d0887\"],[0.1111111111111111,\"#46039f\"],[0.2222222222222222,\"#7201a8\"],[0.3333333333333333,\"#9c179e\"],[0.4444444444444444,\"#bd3786\"],[0.5555555555555556,\"#d8576b\"],[0.6666666666666666,\"#ed7953\"],[0.7777777777777778,\"#fb9f3a\"],[0.8888888888888888,\"#fdca26\"],[1.0,\"#f0f921\"]]}],\"heatmapgl\":[{\"type\":\"heatmapgl\",\"colorbar\":{\"outlinewidth\":0,\"ticks\":\"\"},\"colorscale\":[[0.0,\"#0d0887\"],[0.1111111111111111,\"#46039f\"],[0.2222222222222222,\"#7201a8\"],[0.3333333333333333,\"#9c179e\"],[0.4444444444444444,\"#bd3786\"],[0.5555555555555556,\"#d8576b\"],[0.6666666666666666,\"#ed7953\"],[0.7777777777777778,\"#fb9f3a\"],[0.8888888888888888,\"#fdca26\"],[1.0,\"#f0f921\"]]}],\"contourcarpet\":[{\"type\":\"contourcarpet\",\"colorbar\":{\"outlinewidth\":0,\"ticks\":\"\"}}],\"contour\":[{\"type\":\"contour\",\"colorbar\":{\"outlinewidth\":0,\"ticks\":\"\"},\"colorscale\":[[0.0,\"#0d0887\"],[0.1111111111111111,\"#46039f\"],[0.2222222222222222,\"#7201a8\"],[0.3333333333333333,\"#9c179e\"],[0.4444444444444444,\"#bd3786\"],[0.5555555555555556,\"#d8576b\"],[0.6666666666666666,\"#ed7953\"],[0.7777777777777778,\"#fb9f3a\"],[0.8888888888888888,\"#fdca26\"],[1.0,\"#f0f921\"]]}],\"surface\":[{\"type\":\"surface\",\"colorbar\":{\"outlinewidth\":0,\"ticks\":\"\"},\"colorscale\":[[0.0,\"#0d0887\"],[0.1111111111111111,\"#46039f\"],[0.2222222222222222,\"#7201a8\"],[0.3333333333333333,\"#9c179e\"],[0.4444444444444444,\"#bd3786\"],[0.5555555555555556,\"#d8576b\"],[0.6666666666666666,\"#ed7953\"],[0.7777777777777778,\"#fb9f3a\"],[0.8888888888888888,\"#fdca26\"],[1.0,\"#f0f921\"]]}],\"mesh3d\":[{\"type\":\"mesh3d\",\"colorbar\":{\"outlinewidth\":0,\"ticks\":\"\"}}],\"scatter\":[{\"fillpattern\":{\"fillmode\":\"overlay\",\"size\":10,\"solidity\":0.2},\"type\":\"scatter\"}],\"parcoords\":[{\"type\":\"parcoords\",\"line\":{\"colorbar\":{\"outlinewidth\":0,\"ticks\":\"\"}}}],\"scatterpolargl\":[{\"type\":\"scatterpolargl\",\"marker\":{\"colorbar\":{\"outlinewidth\":0,\"ticks\":\"\"}}}],\"bar\":[{\"error_x\":{\"color\":\"#2a3f5f\"},\"error_y\":{\"color\":\"#2a3f5f\"},\"marker\":{\"line\":{\"color\":\"#E5ECF6\",\"width\":0.5},\"pattern\":{\"fillmode\":\"overlay\",\"size\":10,\"solidity\":0.2}},\"type\":\"bar\"}],\"scattergeo\":[{\"type\":\"scattergeo\",\"marker\":{\"colorbar\":{\"outlinewidth\":0,\"ticks\":\"\"}}}],\"scatterpolar\":[{\"type\":\"scatterpolar\",\"marker\":{\"colorbar\":{\"outlinewidth\":0,\"ticks\":\"\"}}}],\"histogram\":[{\"marker\":{\"pattern\":{\"fillmode\":\"overlay\",\"size\":10,\"solidity\":0.2}},\"type\":\"histogram\"}],\"scattergl\":[{\"type\":\"scattergl\",\"marker\":{\"colorbar\":{\"outlinewidth\":0,\"ticks\":\"\"}}}],\"scatter3d\":[{\"type\":\"scatter3d\",\"line\":{\"colorbar\":{\"outlinewidth\":0,\"ticks\":\"\"}},\"marker\":{\"colorbar\":{\"outlinewidth\":0,\"ticks\":\"\"}}}],\"scattermapbox\":[{\"type\":\"scattermapbox\",\"marker\":{\"colorbar\":{\"outlinewidth\":0,\"ticks\":\"\"}}}],\"scatterternary\":[{\"type\":\"scatterternary\",\"marker\":{\"colorbar\":{\"outlinewidth\":0,\"ticks\":\"\"}}}],\"scattercarpet\":[{\"type\":\"scattercarpet\",\"marker\":{\"colorbar\":{\"outlinewidth\":0,\"ticks\":\"\"}}}],\"carpet\":[{\"aaxis\":{\"endlinecolor\":\"#2a3f5f\",\"gridcolor\":\"white\",\"linecolor\":\"white\",\"minorgridcolor\":\"white\",\"startlinecolor\":\"#2a3f5f\"},\"baxis\":{\"endlinecolor\":\"#2a3f5f\",\"gridcolor\":\"white\",\"linecolor\":\"white\",\"minorgridcolor\":\"white\",\"startlinecolor\":\"#2a3f5f\"},\"type\":\"carpet\"}],\"table\":[{\"cells\":{\"fill\":{\"color\":\"#EBF0F8\"},\"line\":{\"color\":\"white\"}},\"header\":{\"fill\":{\"color\":\"#C8D4E3\"},\"line\":{\"color\":\"white\"}},\"type\":\"table\"}],\"barpolar\":[{\"marker\":{\"line\":{\"color\":\"#E5ECF6\",\"width\":0.5},\"pattern\":{\"fillmode\":\"overlay\",\"size\":10,\"solidity\":0.2}},\"type\":\"barpolar\"}],\"pie\":[{\"automargin\":true,\"type\":\"pie\"}]},\"layout\":{\"autotypenumbers\":\"strict\",\"colorway\":[\"#636efa\",\"#EF553B\",\"#00cc96\",\"#ab63fa\",\"#FFA15A\",\"#19d3f3\",\"#FF6692\",\"#B6E880\",\"#FF97FF\",\"#FECB52\"],\"font\":{\"color\":\"#2a3f5f\"},\"hovermode\":\"closest\",\"hoverlabel\":{\"align\":\"left\"},\"paper_bgcolor\":\"white\",\"plot_bgcolor\":\"#E5ECF6\",\"polar\":{\"bgcolor\":\"#E5ECF6\",\"angularaxis\":{\"gridcolor\":\"white\",\"linecolor\":\"white\",\"ticks\":\"\"},\"radialaxis\":{\"gridcolor\":\"white\",\"linecolor\":\"white\",\"ticks\":\"\"}},\"ternary\":{\"bgcolor\":\"#E5ECF6\",\"aaxis\":{\"gridcolor\":\"white\",\"linecolor\":\"white\",\"ticks\":\"\"},\"baxis\":{\"gridcolor\":\"white\",\"linecolor\":\"white\",\"ticks\":\"\"},\"caxis\":{\"gridcolor\":\"white\",\"linecolor\":\"white\",\"ticks\":\"\"}},\"coloraxis\":{\"colorbar\":{\"outlinewidth\":0,\"ticks\":\"\"}},\"colorscale\":{\"sequential\":[[0.0,\"#0d0887\"],[0.1111111111111111,\"#46039f\"],[0.2222222222222222,\"#7201a8\"],[0.3333333333333333,\"#9c179e\"],[0.4444444444444444,\"#bd3786\"],[0.5555555555555556,\"#d8576b\"],[0.6666666666666666,\"#ed7953\"],[0.7777777777777778,\"#fb9f3a\"],[0.8888888888888888,\"#fdca26\"],[1.0,\"#f0f921\"]],\"sequentialminus\":[[0.0,\"#0d0887\"],[0.1111111111111111,\"#46039f\"],[0.2222222222222222,\"#7201a8\"],[0.3333333333333333,\"#9c179e\"],[0.4444444444444444,\"#bd3786\"],[0.5555555555555556,\"#d8576b\"],[0.6666666666666666,\"#ed7953\"],[0.7777777777777778,\"#fb9f3a\"],[0.8888888888888888,\"#fdca26\"],[1.0,\"#f0f921\"]],\"diverging\":[[0,\"#8e0152\"],[0.1,\"#c51b7d\"],[0.2,\"#de77ae\"],[0.3,\"#f1b6da\"],[0.4,\"#fde0ef\"],[0.5,\"#f7f7f7\"],[0.6,\"#e6f5d0\"],[0.7,\"#b8e186\"],[0.8,\"#7fbc41\"],[0.9,\"#4d9221\"],[1,\"#276419\"]]},\"xaxis\":{\"gridcolor\":\"white\",\"linecolor\":\"white\",\"ticks\":\"\",\"title\":{\"standoff\":15},\"zerolinecolor\":\"white\",\"automargin\":true,\"zerolinewidth\":2},\"yaxis\":{\"gridcolor\":\"white\",\"linecolor\":\"white\",\"ticks\":\"\",\"title\":{\"standoff\":15},\"zerolinecolor\":\"white\",\"automargin\":true,\"zerolinewidth\":2},\"scene\":{\"xaxis\":{\"backgroundcolor\":\"#E5ECF6\",\"gridcolor\":\"white\",\"linecolor\":\"white\",\"showbackground\":true,\"ticks\":\"\",\"zerolinecolor\":\"white\",\"gridwidth\":2},\"yaxis\":{\"backgroundcolor\":\"#E5ECF6\",\"gridcolor\":\"white\",\"linecolor\":\"white\",\"showbackground\":true,\"ticks\":\"\",\"zerolinecolor\":\"white\",\"gridwidth\":2},\"zaxis\":{\"backgroundcolor\":\"#E5ECF6\",\"gridcolor\":\"white\",\"linecolor\":\"white\",\"showbackground\":true,\"ticks\":\"\",\"zerolinecolor\":\"white\",\"gridwidth\":2}},\"shapedefaults\":{\"line\":{\"color\":\"#2a3f5f\"}},\"annotationdefaults\":{\"arrowcolor\":\"#2a3f5f\",\"arrowhead\":0,\"arrowwidth\":1},\"geo\":{\"bgcolor\":\"white\",\"landcolor\":\"#E5ECF6\",\"subunitcolor\":\"white\",\"showland\":true,\"showlakes\":true,\"lakecolor\":\"white\"},\"title\":{\"x\":0.05},\"mapbox\":{\"style\":\"light\"}}},\"title\":{\"text\":\"COT Data: Percentage of Open Interest for Producers\"},\"yaxis\":{\"title\":{\"text\":\"Percentage of Open Interest\"},\"ticksuffix\":\"%\"},\"xaxis\":{\"title\":{\"text\":\"Date\"},\"tickformat\":\"%d %b %Y\",\"tickangle\":45,\"dtick\":\"M1\",\"ticklabelmode\":\"period\"},\"legend\":{\"title\":{\"text\":\"Producer Categories\"}},\"height\":600,\"width\":1200,\"hovermode\":\"x unified\"},                        {\"responsive\": true}                    ).then(function(){\n",
       "                            \n",
       "var gd = document.getElementById('dba9e4a5-6b88-4361-9340-e9e1d7fb5297');\n",
       "var x = new MutationObserver(function (mutations, observer) {{\n",
       "        var display = window.getComputedStyle(gd).display;\n",
       "        if (!display || display === 'none') {{\n",
       "            console.log([gd, 'removed!']);\n",
       "            Plotly.purge(gd);\n",
       "            observer.disconnect();\n",
       "        }}\n",
       "}});\n",
       "\n",
       "// Listen for the removal of the full notebook cells\n",
       "var notebookContainer = gd.closest('#notebook-container');\n",
       "if (notebookContainer) {{\n",
       "    x.observe(notebookContainer, {childList: true});\n",
       "}}\n",
       "\n",
       "// Listen for the clearing of the current output cell\n",
       "var outputEl = gd.closest('.output');\n",
       "if (outputEl) {{\n",
       "    x.observe(outputEl, {childList: true});\n",
       "}}\n",
       "\n",
       "                        })                };                });            </script>        </div>"
      ]
     },
     "metadata": {},
     "output_type": "display_data"
    },
    {
     "name": "stdout",
     "output_type": "stream",
     "text": [
      "\n",
      "Metrics for Producer/Merchant/Processor/User Longs:\n",
      "Volatility (Standard Deviation): 0.58%\n",
      "Average: 2.68%\n",
      "Median: 2.76%\n",
      "Minimum: 1.14%\n",
      "Maximum: 3.37%\n",
      "Typical Range: 2.50% to 3.13%\n",
      "\n",
      "Metrics for Producer/Merchant/Processor/User Shorts:\n",
      "Volatility (Standard Deviation): 2.45%\n",
      "Average: 26.86%\n",
      "Median: 26.56%\n",
      "Minimum: 23.11%\n",
      "Maximum: 31.32%\n",
      "Typical Range: 25.24% to 28.58%\n",
      "\n",
      "Correlation between Longs and Shorts: 0.53\n"
     ]
    }
   ],
   "source": [
    "import pandas as pd\n",
    "import plotly.graph_objects as go\n",
    "import numpy as np\n",
    "\n",
    "# Assuming df is your DataFrame with the COT data\n",
    "# If not, you'll need to load your data here\n",
    "\n",
    "# Calculate percentages for producers\n",
    "categories = [\n",
    "    'Producer/Merchant/Processor/User Longs',\n",
    "    'Producer/Merchant/Processor/User Shorts'\n",
    "]\n",
    "\n",
    "for category in categories:\n",
    "    df[f'{category} %'] = df[category] / df['Open Interest'] * 100\n",
    "\n",
    "# Create the main figure\n",
    "fig = go.Figure()\n",
    "\n",
    "# Add traces for each category\n",
    "colors = ['blue', 'red']\n",
    "for i, category in enumerate(categories):\n",
    "    fig.add_trace(go.Scatter(\n",
    "        x=df.index, \n",
    "        y=df[f'{category} %'], \n",
    "        mode='lines',\n",
    "        name=category,\n",
    "        line=dict(width=2, color=colors[i])\n",
    "    ))\n",
    "\n",
    "# Update layout\n",
    "fig.update_layout(\n",
    "    title='COT Data: Percentage of Open Interest for Producers',\n",
    "    yaxis_title='Percentage of Open Interest',\n",
    "    xaxis_title='Date',\n",
    "    legend_title='Producer Categories',\n",
    "    height=600,\n",
    "    width=1200,\n",
    "    hovermode='x unified'\n",
    ")\n",
    "\n",
    "# Improve date labeling for better readability\n",
    "fig.update_xaxes(\n",
    "    tickformat=\"%d %b %Y\",\n",
    "    tickangle=45,\n",
    "    dtick=\"M1\",\n",
    "    ticklabelmode=\"period\"\n",
    ")\n",
    "\n",
    "# Set y-axis to percentage\n",
    "fig.update_yaxes(ticksuffix='%')\n",
    "\n",
    "# Show the plot\n",
    "fig.show()\n",
    "\n",
    "# Calculate and print metrics\n",
    "for category in categories:\n",
    "    print(f\"\\nMetrics for {category}:\")\n",
    "    data = df[f'{category} %']\n",
    "    \n",
    "    print(f\"Volatility (Standard Deviation): {data.std():.2f}%\")\n",
    "    print(f\"Average: {data.mean():.2f}%\")\n",
    "    print(f\"Median: {data.median():.2f}%\")\n",
    "    print(f\"Minimum: {data.min():.2f}%\")\n",
    "    print(f\"Maximum: {data.max():.2f}%\")\n",
    "    \n",
    "    # Calculate typical range\n",
    "    typical_low = np.percentile(data, 25)\n",
    "    typical_high = np.percentile(data, 75)\n",
    "    print(f\"Typical Range: {typical_low:.2f}% to {typical_high:.2f}%\")\n",
    "\n",
    "# Calculate and print the correlation between longs and shorts\n",
    "correlation = df[f'{categories[0]} %'].corr(df[f'{categories[1]} %'])\n",
    "print(f\"\\nCorrelation between Longs and Shorts: {correlation:.2f}\")"
   ]
  }
 ],
 "metadata": {
  "kernelspec": {
   "display_name": "Python 3 (ipykernel)",
   "language": "python",
   "name": "python3"
  },
  "language_info": {
   "codemirror_mode": {
    "name": "ipython",
    "version": 3
   },
   "file_extension": ".py",
   "mimetype": "text/x-python",
   "name": "python",
   "nbconvert_exporter": "python",
   "pygments_lexer": "ipython3",
   "version": "3.11.9"
  }
 },
 "nbformat": 4,
 "nbformat_minor": 5
}
